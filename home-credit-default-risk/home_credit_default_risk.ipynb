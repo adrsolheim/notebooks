{
 "cells": [
  {
   "cell_type": "markdown",
   "metadata": {},
   "source": [
    "# Home Credit Default Risk\n",
    "Home Credit is an international non-bank, consumer finance group. The company operates in 14 countries and focuses on lending primarily to people with little or no credit history.\n",
    "\n",
    "*Credit* is the trust which allows one party to provide money or resources to another party where that second party does not reimburse the first party immediately (*thereby generating a debt*), but instead promises either to repay or return those resources at a later date. A *credit bureau* is a collection agency that gathers account information from various creditors.\n",
    "\n",
    "This notebook aims to be able to **predict how capable an applicant is of repaying a loan**, using datasets, provided by Home Credit."
   ]
  },
  {
   "cell_type": "code",
   "execution_count": 3,
   "metadata": {},
   "outputs": [],
   "source": [
    "# Manipulating data\n",
    "import numpy as np\n",
    "import pandas as pd\n",
    "\n",
    "# Managing files\n",
    "import os"
   ]
  },
  {
   "cell_type": "markdown",
   "metadata": {},
   "source": [
    "## The different datasets\n",
    "\n",
    "* **application_train.csv** and **application_test.csv**\n",
    "  * The main table in two files. The train set contains __labels/targets__ (0: the loan was *repaid* or 1: the loan was *not* repaid), and the test set does not.\n",
    "  * Static data for all applications. One row represents one loan.  \n",
    "  \n",
    "  \n",
    "* **bureau.csv**\n",
    "  * All client's previous credits provided by other financial institutions reported by the Credit Bureau (loans).\n",
    "  * For every loan, there are as many rows as number of credits the client had in Credit Bureau before the application date. In other words, each previous credit has its own row in bureau, but one loan in the application data can have multiple previous credits.\n",
    "  \n",
    "  \n",
    "* **bureau_balance.csv**\n",
    "  * Monthly balances of previous credits in Credit Bureau (**bureau.csv**).\n",
    "  * This table has one row for each month of history of every previous credit reported to Credit Bureau - the table has (*# loans in sample * # of relative previous credits * # of months where we have some history observable for the previous credits*) rows. In other words, each row is one month of a previous credit, and a single previous credit can have multiple rows, *one for each month* of the credit length.\n",
    "  \n",
    "  \n",
    "* **POS_CASH_balance.csv**\n",
    "  * Monthly balance snapshots/data of previous **POS (point of sales) and cash loans** that the applicant had with Home Credit.\n",
    "  * This table has one row for each month of history of every previous credit in Home Credit (consumer credit and cash loans) related to loans in our sample – i.e. the table has (*# loans in sample * # of relative previous credits * # of months in which we have some history observable for the previous credits*) rows.\n",
    "  \n",
    "  \n",
    "* **credit_card_balance.csv**\n",
    "  * Monthly balance snapshots of previous **credit cards** that the applicant has with Home Credit.\n",
    "  * This table has one row for each month of history of every previous credit in Home Credit (consumer credit and cash loans) related to loans in our sample - the table has (*# loans in sample * # of relative previous credit cards * # of months where we have some history observable for the previous credit card*) rows. In other words, each row is one month of a credit card balance, and a single credit card can have many rows.\n",
    "  \n",
    "  \n",
    "* **previous_application.csv**\n",
    "  * All previous applications for Home Credit loans of *clients who have loans* in our sample.\n",
    "  * There is one row for each previous application related to loans in our data sample. Each current loan in the application data can have multiple previous loans. Each previous application has one row and is identified by the feature SK_ID_PREV. \n",
    "  \n",
    "  \n",
    "* **installments_payments.csv** (*A sum of money paid in small parts in a fixed period of time or a single payment within a staged payment plan of a loan*)\n",
    "  * Repayment history for the previously disbursed credits in Home Credit related to the loans in our sample.\n",
    "  * There is a) one row for **every payment that was made** plus b) one row each for **missed payment**.\n",
    "  * One row is equivalent to one payment of one installment OR one installment corresponding to one payment of one previous Home Credit credit related to loans in our sample.\n",
    "  \n",
    "  \n",
    "* **HomeCredit_columns_description.csv**\n",
    "  * This file contains descriptions for the columns in the various data files."
   ]
  },
  {
   "cell_type": "code",
   "execution_count": 15,
   "metadata": {},
   "outputs": [
    {
     "name": "stdout",
     "output_type": "stream",
     "text": [
      "/bin/sh: 1: Syntax error: \"(\" unexpected\r\n"
     ]
    }
   ],
   "source": [
    "![the datasets](misc/datasets.png)"
   ]
  },
  {
   "cell_type": "code",
   "execution_count": 5,
   "metadata": {},
   "outputs": [
    {
     "name": "stdout",
     "output_type": "stream",
     "text": [
      "['bureau_balance.csv', 'credit_card_balance.csv', 'application_test.csv', 'POS_CASH_balance.csv', 'installments_payments.csv', 'bureau.csv', 'HomeCredit_columns_description.csv', 'previous_application.csv', 'application_train.csv', 'sample_submission.csv']\n"
     ]
    }
   ],
   "source": [
    "print(os.listdir(\"datasets/\"))"
   ]
  },
  {
   "cell_type": "code",
   "execution_count": 6,
   "metadata": {},
   "outputs": [],
   "source": [
    "X_train = pd.read_csv('datasets/application_train.csv')\n",
    "X_test = pd.read_csv('datasets/application_test.csv')"
   ]
  }
 ],
 "metadata": {
  "kernelspec": {
   "display_name": "Python 3",
   "language": "python",
   "name": "python3"
  },
  "language_info": {
   "codemirror_mode": {
    "name": "ipython",
    "version": 3
   },
   "file_extension": ".py",
   "mimetype": "text/x-python",
   "name": "python",
   "nbconvert_exporter": "python",
   "pygments_lexer": "ipython3",
   "version": "3.7.0"
  }
 },
 "nbformat": 4,
 "nbformat_minor": 2
}
